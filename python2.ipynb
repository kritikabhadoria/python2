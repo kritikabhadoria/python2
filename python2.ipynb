{
 "cells": [
  {
   "cell_type": "markdown",
   "id": "8fe91795-af06-4591-9a88-5531e8af231d",
   "metadata": {},
   "source": [
    "Here are the Python programs for each of the given questions:\n",
    "\n",
    "Q1. Sorting list of tuples based on integer value using a lambda function:\n",
    "```python\n",
    "data = [('Sachin Tendulkar', 34357), ('Ricky Ponting', 27483), ('Jack Kallis', 25534), ('Virat Kohli', 24936)]\n",
    "sorted_data = sorted(data, key=lambda x: x[1])\n",
    "print(sorted_data)\n",
    "```\n",
    "\n",
    "Q2. Finding squares of all numbers in a list using lambda and map functions:\n",
    "```python\n",
    "numbers = [1, 2, 3, 4, 5, 6, 7, 8, 9, 10]\n",
    "squared_numbers = list(map(lambda x: x**2, numbers))\n",
    "print(squared_numbers)\n",
    "```\n",
    "\n",
    "Q3. Converting list of integers into a tuple of strings using map and lambda functions:\n",
    "```python\n",
    "numbers = [1, 2, 3, 4, 5, 6, 7, 8, 9, 10]\n",
    "string_tuple = tuple(map(lambda x: str(x), numbers))\n",
    "print(string_tuple)\n",
    "```\n",
    "\n",
    "Q4. Computing the product of a list containing numbers from 1 to 25 using reduce function:\n",
    "```python\n",
    "from functools import reduce\n",
    "\n",
    "numbers = range(1, 26)\n",
    "product = reduce(lambda x, y: x * y, numbers)\n",
    "print(product)\n",
    "```\n",
    "\n",
    "Q5. Filtering numbers in a list that are divisible by 2 and 3 using the filter function:\n",
    "```python\n",
    "numbers = [2, 3, 6, 9, 27, 60, 90, 120, 55, 46]\n",
    "filtered_numbers = list(filter(lambda x: x % 2 == 0 and x % 3 == 0, numbers))\n",
    "print(filtered_numbers)\n",
    "```\n",
    "\n",
    "Q6. Finding palindromes in a list of strings using lambda and filter function:\n",
    "```python\n",
    "strings = ['python', 'php', 'aba', 'radar', 'level']\n",
    "palindromes = list(filter(lambda x: x == x[::-1], strings))\n",
    "print(palindromes)\n",
    "```"
   ]
  },
  {
   "cell_type": "markdown",
   "id": "e233cd30-c7c0-4e4a-a9fa-ee30046befd5",
   "metadata": {},
   "source": []
  }
 ],
 "metadata": {
  "kernelspec": {
   "display_name": "Python 3 (ipykernel)",
   "language": "python",
   "name": "python3"
  },
  "language_info": {
   "codemirror_mode": {
    "name": "ipython",
    "version": 3
   },
   "file_extension": ".py",
   "mimetype": "text/x-python",
   "name": "python",
   "nbconvert_exporter": "python",
   "pygments_lexer": "ipython3",
   "version": "3.10.8"
  }
 },
 "nbformat": 4,
 "nbformat_minor": 5
}
